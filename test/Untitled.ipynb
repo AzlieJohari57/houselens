{
 "cells": [
  {
   "cell_type": "code",
   "execution_count": 5,
   "id": "35d7f846",
   "metadata": {},
   "outputs": [],
   "source": [
    "from faker import Faker\n",
    "import random\n",
    "import csv\n",
    "from datetime import datetime, timedelta\n",
    "\n",
    "# Create Faker instance\n",
    "fake = Faker()\n",
    "\n",
    "# Generate fake inflation data\n",
    "inflation_data = []\n",
    "for year in range(2004, 2025):\n",
    "    for month in range(1, 13):\n",
    "        # Calculate start and end dates for the month\n",
    "        start_date = datetime(year, month, 1)\n",
    "        end_date = start_date + timedelta(days=30)  # Assuming 30 days in a month\n",
    "        # Generate date\n",
    "        date = fake.date_time_between(start_date=start_date, end_date=end_date)\n",
    "        # Generate random inflation rate (assuming between 0% and 10%)\n",
    "        inflation_rate = round(random.uniform(0, 10), 2)\n",
    "        inflation_data.append([date.strftime('%Y-%m-%d'), inflation_rate])\n",
    "\n",
    "# Write data to CSV file\n",
    "with open('malaysia_inflation_data.csv', 'w', newline='') as csvfile:\n",
    "    writer = csv.writer(csvfile)\n",
    "    writer.writerow(['Date', 'Inflation Rate'])\n",
    "    writer.writerows(inflation_data)\n"
   ]
  },
  {
   "cell_type": "code",
   "execution_count": null,
   "id": "8be0b7c5",
   "metadata": {},
   "outputs": [],
   "source": []
  }
 ],
 "metadata": {
  "kernelspec": {
   "display_name": "Python 3 (ipykernel)",
   "language": "python",
   "name": "python3"
  },
  "language_info": {
   "codemirror_mode": {
    "name": "ipython",
    "version": 3
   },
   "file_extension": ".py",
   "mimetype": "text/x-python",
   "name": "python",
   "nbconvert_exporter": "python",
   "pygments_lexer": "ipython3",
   "version": "3.9.11"
  }
 },
 "nbformat": 4,
 "nbformat_minor": 5
}
