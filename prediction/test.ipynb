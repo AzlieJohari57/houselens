{
 "cells": [
  {
   "cell_type": "code",
   "execution_count": 2,
   "id": "9226bd5b",
   "metadata": {},
   "outputs": [
    {
     "name": "stdout",
     "output_type": "stream",
     "text": [
      "Average Price: 1.4596020195248944\n"
     ]
    }
   ],
   "source": [
    "import pandas as pd\n",
    "\n",
    "# Read the CSV file into a DataFrame\n",
    "df = pd.read_csv('Cleaned_KL_Housing_Dataset.csv')\n",
    "\n",
    "# Calculate the average price\n",
    "average_price = df['Price'].mean()\n",
    "\n",
    "print(\"Average Price:\", average_price)\n"
   ]
  },
  {
   "cell_type": "code",
   "execution_count": 1,
   "id": "da8c9173",
   "metadata": {},
   "outputs": [
    {
     "ename": "NameError",
     "evalue": "name 'GridSearchCV' is not defined",
     "output_type": "error",
     "traceback": [
      "\u001b[1;31m---------------------------------------------------------------------------\u001b[0m",
      "\u001b[1;31mNameError\u001b[0m                                 Traceback (most recent call last)",
      "Cell \u001b[1;32mIn[1], line 10\u001b[0m\n\u001b[0;32m      1\u001b[0m \u001b[38;5;66;03m# XGBoost Regressor\u001b[39;00m\n\u001b[0;32m      2\u001b[0m param_grid_xgb \u001b[38;5;241m=\u001b[39m {\n\u001b[0;32m      3\u001b[0m     \u001b[38;5;124m'\u001b[39m\u001b[38;5;124mn_estimators\u001b[39m\u001b[38;5;124m'\u001b[39m: [\u001b[38;5;241m100\u001b[39m, \u001b[38;5;241m200\u001b[39m, \u001b[38;5;241m300\u001b[39m],\n\u001b[0;32m      4\u001b[0m     \u001b[38;5;124m'\u001b[39m\u001b[38;5;124mmax_depth\u001b[39m\u001b[38;5;124m'\u001b[39m: [\u001b[38;5;241m3\u001b[39m, \u001b[38;5;241m6\u001b[39m, \u001b[38;5;241m9\u001b[39m],\n\u001b[1;32m   (...)\u001b[0m\n\u001b[0;32m      7\u001b[0m     \u001b[38;5;124m'\u001b[39m\u001b[38;5;124mcolsample_bytree\u001b[39m\u001b[38;5;124m'\u001b[39m: [\u001b[38;5;241m0.6\u001b[39m, \u001b[38;5;241m0.8\u001b[39m, \u001b[38;5;241m1.0\u001b[39m]\n\u001b[0;32m      8\u001b[0m }\n\u001b[1;32m---> 10\u001b[0m grid_search_xgb \u001b[38;5;241m=\u001b[39m \u001b[43mGridSearchCV\u001b[49m(estimator\u001b[38;5;241m=\u001b[39mXGBRegressor(), param_grid\u001b[38;5;241m=\u001b[39mparam_grid_xgb, cv\u001b[38;5;241m=\u001b[39m\u001b[38;5;241m5\u001b[39m, n_jobs\u001b[38;5;241m=\u001b[39m\u001b[38;5;241m-\u001b[39m\u001b[38;5;241m1\u001b[39m, verbose\u001b[38;5;241m=\u001b[39m\u001b[38;5;241m2\u001b[39m)\n\u001b[0;32m     11\u001b[0m grid_search_xgb\u001b[38;5;241m.\u001b[39mfit(X_train, y_train)\n\u001b[0;32m     13\u001b[0m \u001b[38;5;66;03m# Best parameters from Grid Search for XGBoost\u001b[39;00m\n",
      "\u001b[1;31mNameError\u001b[0m: name 'GridSearchCV' is not defined"
     ]
    }
   ],
   "source": [
    "# XGBoost Regressor\n",
    "param_grid_xgb = {\n",
    "    'n_estimators': [100, 200, 300],\n",
    "    'max_depth': [3, 6, 9],\n",
    "    'learning_rate': [0.01, 0.1, 0.2],\n",
    "    'subsample': [0.6, 0.8, 1.0],\n",
    "    'colsample_bytree': [0.6, 0.8, 1.0]\n",
    "}\n",
    "\n",
    "grid_search_xgb = GridSearchCV(estimator=XGBRegressor(), \n",
    "param_grid=param_grid_xgb, cv=5, n_jobs=-1, verbose=2)\n",
    "grid_search_xgb.fit(X_train, y_train)\n",
    "\n",
    "# Best parameters from Grid Search for XGBoost\n",
    "best_params_xgb = grid_search_xgb.best_params_\n",
    "\n",
    "print(f'Best Parameters for XGBoost: {best_params_xgb}')\n",
    "\n",
    "# Train the XGBoost model with best parameters\n",
    "best_xgb = XGBRegressor(**best_params_xgb)\n",
    "best_xgb.fit(X_train, y_train)\n",
    "\n",
    "# Evaluate the XGBoost model\n",
    "y_pred_xgb = best_xgb.predict(X_test)\n",
    "mse_xgb = mean_squared_error(y_test, y_pred_xgb)\n",
    "mae_xgb = mean_absolute_error(y_test, y_pred_xgb)\n",
    "score_xgb = best_xgb.score(X_test, y_test)\n",
    "\n",
    "print(f'Model Score: {score_xgb}')\n",
    "print(f'Mean Squared Error: {mse_xgb}')\n",
    "print(f'Mean Absolute Error: {mae_xgb}')"
   ]
  },
  {
   "cell_type": "code",
   "execution_count": null,
   "id": "24da2919",
   "metadata": {},
   "outputs": [],
   "source": []
  }
 ],
 "metadata": {
  "kernelspec": {
   "display_name": "Python 3 (ipykernel)",
   "language": "python",
   "name": "python3"
  },
  "language_info": {
   "codemirror_mode": {
    "name": "ipython",
    "version": 3
   },
   "file_extension": ".py",
   "mimetype": "text/x-python",
   "name": "python",
   "nbconvert_exporter": "python",
   "pygments_lexer": "ipython3",
   "version": "3.9.11"
  }
 },
 "nbformat": 4,
 "nbformat_minor": 5
}
